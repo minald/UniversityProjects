{
 "cells": [
  {
   "cell_type": "code",
   "execution_count": 1,
   "metadata": {},
   "outputs": [
    {
     "name": "stdout",
     "output_type": "stream",
     "text": "1 of 88: https://afisha.tut.by/film/ford-protiv-ferrari/\n2 of 88: https://afisha.tut.by/film/angely-charli/\n3 of 88: https://afisha.tut.by/film/upyri/\n4 of 88: https://afisha.tut.by/film/miduey/\n5 of 88: https://afisha.tut.by/film/khoroshiy-lzhec/\n6 of 88: https://afisha.tut.by/film/strazhi-arktiki/\n7 of 88: https://afisha.tut.by/film/portret-devushki-v-ogne/\n8 of 88: https://afisha.tut.by/film/akvarel/\n9 of 88: https://afisha.tut.by/film/ford_vs_ferrari_ru_sub/\n10 of 88: https://afisha.tut.by/film/the_good_liar_ru_sub/\n11 of 88: https://afisha.tut.by/film/korotkiy_metr_dramatic_pink/\n12 of 88: https://afisha.tut.by/film/doktor-son/\n13 of 88: https://afisha.tut.by/film/vo-vse-tyazhkoe/\n14 of 88: https://afisha.tut.by/film/malefisenta-vladychica-tmy/\n15 of 88: https://afisha.tut.by/film/tekst/\n16 of 88: https://afisha.tut.by/film/semeyka-addams/\n17 of 88: https://afisha.tut.by/film/terminator-temnye-sudby/\n18 of 88: https://afisha.tut.by/film/joker-film/\n19 of 88: https://afisha.tut.by/film/devyataya/\n20 of 88: https://afisha.tut.by/film/zombilend-kontrolnyy-vystrel/\n21 of 88: https://afisha.tut.by/film/everest-film/\n22 of 88: https://afisha.tut.by/film/ditya-pogody/\n23 of 88: https://afisha.tut.by/film/klara-i-volshebnyy-drakon/\n24 of 88: https://afisha.tut.by/film/rayskie-kholmy/\n25 of 88: https://afisha.tut.by/film/vozera-radasci-kray-zhanchyn/\n26 of 88: https://afisha.tut.by/film/urfin-dzhyus-vozvrashchaetsya/\n27 of 88: https://afisha.tut.by/film/myslennyy-volk/\n28 of 88: https://afisha.tut.by/film/v-pogone-za-vetrom/\n29 of 88: https://afisha.tut.by/film/parazity/\n30 of 88: https://afisha.tut.by/film/domovoy-2019/\n31 of 88: https://afisha.tut.by/film/promar/\n32 of 88: https://afisha.tut.by/film/arakhisovyy-sokol/\n33 of 88: https://afisha.tut.by/film/retrospektiva_b_b_simvol_soblazna/\n34 of 88: https://afisha.tut.by/film/deti-morya/\n35 of 88: https://afisha.tut.by/film/theatrehd_son_v_letnyuyu_noch_ru_sub/\n36 of 88: https://afisha.tut.by/film/tak-skazal-charli/\n37 of 88: https://afisha.tut.by/film/noch_kino_v_moskve/\n38 of 88: https://afisha.tut.by/film/veselaya-ferma/\n39 of 88: https://afisha.tut.by/film/doctor_sleep_ru_sub/\n40 of 88: https://afisha.tut.by/film/taynyy-mir-anny/\n41 of 88: https://afisha.tut.by/film/retrospektiva-pamyati-marka-zakharova/\n42 of 88: https://afisha.tut.by/film/rabota-bez-avtorstva/\n43 of 88: https://afisha.tut.by/film/vengerskie-korotkometrazhnye-filmy/\n44 of 88: https://afisha.tut.by/film/siyanie_obrushitsya_vniz_posledniy_koncert_grazhdanskoy_oborony/\n45 of 88: https://afisha.tut.by/film/kover-samolet/\n46 of 88: https://afisha.tut.by/film/gurvinek-volshebnaya-igra/\n47 of 88: https://afisha.tut.by/film/bukashki-2/\n48 of 88: https://afisha.tut.by/film/mmkf-listapad-matias-i-maksim/\n49 of 88: https://afisha.tut.by/film/theatrehd-korsar-sub/\n50 of 88: https://afisha.tut.by/film/theatrehd-dryan/\n51 of 88: https://afisha.tut.by/film/svyataya-agata/\n52 of 88: https://afisha.tut.by/film/theatrehd-globe-vindzorskie-nasmeshnicy/\n53 of 88: https://afisha.tut.by/film/lyubit-nelzya-rasstatsya/\n54 of 88: https://afisha.tut.by/film/theatrehd-veer-ledi-uindermir-spektakl/\n55 of 88: https://afisha.tut.by/film/first-light/\n56 of 88: https://afisha.tut.by/film/avanpost/\n57 of 88: https://afisha.tut.by/film/korol-slon/\n58 of 88: https://afisha.tut.by/film/davay-razvedemsya/\n59 of 88: https://afisha.tut.by/film/abbatstvo_daunton/\n60 of 88: https://afisha.tut.by/film/malysh-dzho/\n61 of 88: https://afisha.tut.by/film/obratnyy-otschet/\n62 of 88: https://afisha.tut.by/film/shlyubnaya_garachka/\n63 of 88: https://afisha.tut.by/film/depeche_mode_spirits_in_the_forest/\n64 of 88: https://afisha.tut.by/film/mmkf-listapad-chistoe-iskusstvo/\n65 of 88: https://afisha.tut.by/film/svadebnyy-god/\n66 of 88: https://afisha.tut.by/film/european_outdoor_film_tour_19_20/\n67 of 88: https://afisha.tut.by/film/podkidysh-2019/\n68 of 88: https://afisha.tut.by/film/dostat-nozhi/\n69 of 88: https://afisha.tut.by/film/pod-silver-leyk/\n70 of 88: https://afisha.tut.by/film/non-stop-ekranizaciya-klassiki/\n71 of 88: https://afisha.tut.by/film/theatrehd-ekhnaton/\n72 of 88: https://afisha.tut.by/film/kokosha-malenkiy-drakon-priklyucheniya-v-dzhunglyakh/\n73 of 88: https://afisha.tut.by/film/kod-gias-lelush-voskresshiy/\n74 of 88: https://afisha.tut.by/film/theatrehd-gogen/\n75 of 88: https://afisha.tut.by/film/theatrehd_gamlet_kamberbetch_eng/\n76 of 88: https://afisha.tut.by/film/tim-taler-ili-prodannyy-smekh/\n77 of 88: https://afisha.tut.by/film/theatrehd-leonardo-vsya-istoriya/\n78 of 88: https://afisha.tut.by/film/kholodnoe-serdce-2/\n79 of 88: https://afisha.tut.by/film/theatrehd_nastoyashchaya_komediya_ru_sub/\n80 of 88: https://afisha.tut.by/film/non-stop-sharm-francii/\n81 of 88: https://afisha.tut.by/film/teen_sprints_motiviruyushchaya_biznes_konferenciya_so_spikerami_podrostkami/\n82 of 88: https://afisha.tut.by/film/42-ya-ulica/\n83 of 88: https://afisha.tut.by/film/theatrehd_dvenadcataya_noch/\n84 of 88: https://afisha.tut.by/film/theatrehd-khansard/\n85 of 88: https://afisha.tut.by/film/zvezdnye-voyny-epizod-ix/\n86 of 88: https://afisha.tut.by/film/star_wars_the_rise_of_skywalker_ru_sub/\n87 of 88: https://afisha.tut.by/film/theatrehd-palladio-vlast-arkhitektury/\n88 of 88: https://afisha.tut.by/film/theatrehd-shchelkunchik-sub/\n"
    }
   ],
   "source": [
    "from bs4 import BeautifulSoup \n",
    "import requests \n",
    "\n",
    "def get_soup_by_link(link):\n",
    "    response = requests.get(link) \n",
    "    return BeautifulSoup(response.text, 'html.parser')\n",
    " \n",
    "def parse_rating(table_movie_rating): \n",
    "    try: \n",
    "        return table_movie_rating.tbody.tr.td.div.span.text \n",
    "    except: \n",
    "        return \"Unknown\" \n",
    "    \n",
    "def parse_genre(table_movie_info): \n",
    "    try: \n",
    "        return table_movie_info.find('td', {'class': 'genre'}).p.a.text\n",
    "    except: \n",
    "        return \"Unknown\" \n",
    "    \n",
    "def parse_year(table_movie_info):\n",
    "    try:\n",
    "        return table_movie_info.find('td', {'class': 'year'}).a.text\n",
    "    except:\n",
    "        return \"Unknown\"\n",
    "\n",
    "def parse(table_movie_info, class_name):\n",
    "    try:\n",
    "        return table_movie_info.find('td', {'class': class_name}).text\n",
    "    except:\n",
    "        return \"Unknown\"\n",
    "\n",
    "def parse_min_age(td_with_data):\n",
    "    try:\n",
    "        return td_with_data.find('div', {'class': 'title__labels'}).contents[1].text\n",
    "    except:\n",
    "        return \"Unknown\"\n",
    "\n",
    "def parse_director(td_with_data):\n",
    "    try:\n",
    "        return td_with_data.findAll('p', recursive = False)[0].text[10:]\n",
    "    except:\n",
    "        return \"Unknown\"    \n",
    "\n",
    "def parse_actors(td_with_data):\n",
    "    try:\n",
    "        return td_with_data.findAll('p', recursive = False)[1].text[9:]\n",
    "    except:\n",
    "        return \"Unknown\"\n",
    "\n",
    "main_link = 'https://afisha.tut.by/film/'\n",
    "soup = get_soup_by_link(main_link)\n",
    "films_li = soup.findAll('li', {'class': 'lists__li'}) \n",
    "links = []\n",
    "for film_li in films_li: \n",
    "    film_links = film_li.findAll('a', {'class': 'name'}) \n",
    "    if len(film_links) != 0: \n",
    "        link = film_links[0]['href']\n",
    "        if link.startswith(main_link) and '?utm_source' not in link: \n",
    "            links.append(link)\n",
    "\n",
    "movies = {}\n",
    "links_amount = len(links)\n",
    "i = 1\n",
    "for link in links:\n",
    "    print(str(i) + \" of \" + str(links_amount) + \": \" + link)\n",
    "    i = i + 1\n",
    "    \n",
    "    soup = get_soup_by_link(link)\n",
    "    td_with_data = soup.find('td', {'class': 'post b-event-post'}) \n",
    "    table_movie_info = td_with_data.find('table', {'class': 'movie_info'}) \n",
    "    table_movie_rating = td_with_data.find('table', {'class': 'movie_rating'}) \n",
    "    name = td_with_data.h1.string\n",
    "    \n",
    "    movies[name] = {}\n",
    "    movies[name]['link'] = link\n",
    "    movies[name]['genre'] = parse_genre(table_movie_info)\n",
    "    movies[name]['year'] = parse_year(table_movie_info)\n",
    "    movies[name]['country'] = parse(table_movie_info, 'author')\n",
    "    movies[name]['duration'] = parse(table_movie_info, 'duration')\n",
    "    movies[name]['end_date'] = parse(table_movie_info, 'date')\n",
    "    movies[name]['director'] = parse_director(td_with_data) \n",
    "    movies[name]['actors'] = parse_actors(td_with_data)\n",
    "    movies[name]['rating'] = parse_rating(table_movie_rating)\n",
    "    movies[name]['min_age'] = parse_min_age(td_with_data)"
   ]
  },
  {
   "cell_type": "code",
   "execution_count": 2,
   "metadata": {},
   "outputs": [
    {
     "data": {
      "text/html": "<div>\n<style scoped>\n    .dataframe tbody tr th:only-of-type {\n        vertical-align: middle;\n    }\n\n    .dataframe tbody tr th {\n        vertical-align: top;\n    }\n\n    .dataframe thead th {\n        text-align: right;\n    }\n</style>\n<table border=\"1\" class=\"dataframe\">\n  <thead>\n    <tr style=\"text-align: right;\">\n      <th></th>\n      <th>link</th>\n      <th>genre</th>\n      <th>year</th>\n      <th>country</th>\n      <th>duration</th>\n      <th>end_date</th>\n      <th>director</th>\n      <th>actors</th>\n      <th>rating</th>\n      <th>min_age</th>\n    </tr>\n  </thead>\n  <tbody>\n    <tr>\n      <th>Ford против Ferrari</th>\n      <td>https://afisha.tut.by/film/ford-protiv-ferrari/</td>\n      <td>Боевик</td>\n      <td>2019</td>\n      <td>США, Франция</td>\n      <td>Unknown</td>\n      <td>В прокате до 24 ноября</td>\n      <td>Джеймс Мэнголд</td>\n      <td>Кристиан Бэйл, Мэтт Дэймон, Катрина Балф, Джон...</td>\n      <td>Unknown</td>\n      <td>16+</td>\n    </tr>\n    <tr>\n      <th>Ангелы Чарли</th>\n      <td>https://afisha.tut.by/film/angely-charli/</td>\n      <td>Боевик</td>\n      <td>2019</td>\n      <td>США</td>\n      <td>119 минут</td>\n      <td>В прокате до 24 ноября</td>\n      <td>Элизабет Бэнкс</td>\n      <td>Кристен Стюарт, Наоми Скотт, Элла Балинска, Сэ...</td>\n      <td>Unknown</td>\n      <td>16+</td>\n    </tr>\n    <tr>\n      <th>Упыри</th>\n      <td>https://afisha.tut.by/film/upyri/</td>\n      <td>Ужасы</td>\n      <td>2018</td>\n      <td>Беларусь</td>\n      <td>77 минут</td>\n      <td>В прокате до 24 ноября</td>\n      <td>Андрей Гринько</td>\n      <td>Вадим Галыгин, Александр Старченко, Габриэль П...</td>\n      <td>7,9</td>\n      <td>18+</td>\n    </tr>\n    <tr>\n      <th>Мидуэй</th>\n      <td>https://afisha.tut.by/film/miduey/</td>\n      <td>Боевик</td>\n      <td>2019</td>\n      <td>Китай, США</td>\n      <td>138 минут</td>\n      <td>В прокате до 24 ноября</td>\n      <td>Роланд Эммерих</td>\n      <td>Мэнди Мур, Люк Эванс, Патрик Уилсон, Вуди Харр...</td>\n      <td>7,8</td>\n      <td>16+</td>\n    </tr>\n    <tr>\n      <th>Хороший лжец</th>\n      <td>https://afisha.tut.by/film/khoroshiy-lzhec/</td>\n      <td>Детектив</td>\n      <td>2019</td>\n      <td>США</td>\n      <td>Unknown</td>\n      <td>В прокате до 24 ноября</td>\n      <td>Хороший лжец</td>\n      <td>Хелен Миррен, Джим Картер, Иэн Маккеллен, Расс...</td>\n      <td>Unknown</td>\n      <td>16+</td>\n    </tr>\n    <tr>\n      <th>...</th>\n      <td>...</td>\n      <td>...</td>\n      <td>...</td>\n      <td>...</td>\n      <td>...</td>\n      <td>...</td>\n      <td>...</td>\n      <td>...</td>\n      <td>...</td>\n      <td>...</td>\n    </tr>\n    <tr>\n      <th>TheatreHD: Хансард</th>\n      <td>https://afisha.tut.by/film/theatrehd-khansard/</td>\n      <td>Unknown</td>\n      <td>2019</td>\n      <td>Unknown</td>\n      <td>95 минут</td>\n      <td>В прокате до 17 декабря</td>\n      <td>Саймон Годвин</td>\n      <td>Unknown</td>\n      <td>Unknown</td>\n      <td>16+</td>\n    </tr>\n    <tr>\n      <th>Звездные Войны: Скайуокер. Восход</th>\n      <td>https://afisha.tut.by/film/zvezdnye-voyny-epiz...</td>\n      <td>Боевик</td>\n      <td>2019</td>\n      <td>США</td>\n      <td>Unknown</td>\n      <td>В прокате до 22 декабря</td>\n      <td>Джей Джей Абрамс</td>\n      <td>Лупита Нионго, Марк Хэмилл, Оскар Айзек, Адам ...</td>\n      <td>10,0</td>\n      <td>16+</td>\n    </tr>\n    <tr>\n      <th>Star Wars: The Rise of Skywalker (RU SUB)</th>\n      <td>https://afisha.tut.by/film/star_wars_the_rise_...</td>\n      <td>Боевик</td>\n      <td>2019</td>\n      <td>Unknown</td>\n      <td>165 минут</td>\n      <td>В прокате до 22 декабря</td>\n      <td>Unknown</td>\n      <td>Unknown</td>\n      <td>Unknown</td>\n      <td>Unknown</td>\n    </tr>\n    <tr>\n      <th>TheatreHD: Палладио. Власть архитектуры</th>\n      <td>https://afisha.tut.by/film/theatrehd-palladio-...</td>\n      <td>Документальный</td>\n      <td>2019</td>\n      <td>Италия</td>\n      <td>98 минут</td>\n      <td>В прокате до 22 декабря</td>\n      <td>Unknown</td>\n      <td>Unknown</td>\n      <td>Unknown</td>\n      <td>12+</td>\n    </tr>\n    <tr>\n      <th>TheatreHD: Щелкунчик (SUB)</th>\n      <td>https://afisha.tut.by/film/theatrehd-shchelkun...</td>\n      <td>Unknown</td>\n      <td>2018</td>\n      <td>Unknown</td>\n      <td>144 минуты</td>\n      <td>В прокате до 29 декабря</td>\n      <td>Unknown</td>\n      <td>Unknown</td>\n      <td>Unknown</td>\n      <td>Unknown</td>\n    </tr>\n  </tbody>\n</table>\n<p>88 rows × 10 columns</p>\n</div>",
      "text/plain": "                                                                                        link  \\\nFord против Ferrari                          https://afisha.tut.by/film/ford-protiv-ferrari/   \nАнгелы Чарли                                       https://afisha.tut.by/film/angely-charli/   \nУпыри                                                      https://afisha.tut.by/film/upyri/   \nМидуэй                                                    https://afisha.tut.by/film/miduey/   \nХороший лжец                                     https://afisha.tut.by/film/khoroshiy-lzhec/   \n...                                                                                      ...   \n TheatreHD: Хансард                           https://afisha.tut.by/film/theatrehd-khansard/   \nЗвездные Войны: Скайуокер. Восход          https://afisha.tut.by/film/zvezdnye-voyny-epiz...   \nStar Wars: The Rise of Skywalker (RU SUB)  https://afisha.tut.by/film/star_wars_the_rise_...   \nTheatreHD: Палладио. Власть архитектуры    https://afisha.tut.by/film/theatrehd-palladio-...   \nTheatreHD: Щелкунчик (SUB)                 https://afisha.tut.by/film/theatrehd-shchelkun...   \n\n                                                    genre  year       country  \\\nFord против Ferrari                                Боевик  2019  США, Франция   \nАнгелы Чарли                                       Боевик  2019           США   \nУпыри                                               Ужасы  2018      Беларусь   \nМидуэй                                             Боевик  2019    Китай, США   \nХороший лжец                                     Детектив  2019           США   \n...                                                   ...   ...           ...   \n TheatreHD: Хансард                               Unknown  2019       Unknown   \nЗвездные Войны: Скайуокер. Восход                  Боевик  2019           США   \nStar Wars: The Rise of Skywalker (RU SUB)          Боевик  2019       Unknown   \nTheatreHD: Палладио. Власть архитектуры    Документальный  2019        Италия   \nTheatreHD: Щелкунчик (SUB)                        Unknown  2018       Unknown   \n\n                                             duration  \\\nFord против Ferrari                           Unknown   \nАнгелы Чарли                                119 минут   \nУпыри                                        77 минут   \nМидуэй                                      138 минут   \nХороший лжец                                  Unknown   \n...                                               ...   \n TheatreHD: Хансард                          95 минут   \nЗвездные Войны: Скайуокер. Восход             Unknown   \nStar Wars: The Rise of Skywalker (RU SUB)   165 минут   \nTheatreHD: Палладио. Власть архитектуры      98 минут   \nTheatreHD: Щелкунчик (SUB)                 144 минуты   \n\n                                                          end_date  \\\nFord против Ferrari                         В прокате до 24 ноября   \nАнгелы Чарли                                В прокате до 24 ноября   \nУпыри                                       В прокате до 24 ноября   \nМидуэй                                      В прокате до 24 ноября   \nХороший лжец                                В прокате до 24 ноября   \n...                                                            ...   \n TheatreHD: Хансард                        В прокате до 17 декабря   \nЗвездные Войны: Скайуокер. Восход          В прокате до 22 декабря   \nStar Wars: The Rise of Skywalker (RU SUB)  В прокате до 22 декабря   \nTheatreHD: Палладио. Власть архитектуры    В прокате до 22 декабря   \nTheatreHD: Щелкунчик (SUB)                 В прокате до 29 декабря   \n\n                                                   director  \\\nFord против Ferrari                          Джеймс Мэнголд   \nАнгелы Чарли                                 Элизабет Бэнкс   \nУпыри                                        Андрей Гринько   \nМидуэй                                       Роланд Эммерих   \nХороший лжец                                   Хороший лжец   \n...                                                     ...   \n TheatreHD: Хансард                           Саймон Годвин   \nЗвездные Войны: Скайуокер. Восход          Джей Джей Абрамс   \nStar Wars: The Rise of Skywalker (RU SUB)           Unknown   \nTheatreHD: Палладио. Власть архитектуры             Unknown   \nTheatreHD: Щелкунчик (SUB)                          Unknown   \n\n                                                                                      actors  \\\nFord против Ferrari                        Кристиан Бэйл, Мэтт Дэймон, Катрина Балф, Джон...   \nАнгелы Чарли                               Кристен Стюарт, Наоми Скотт, Элла Балинска, Сэ...   \nУпыри                                      Вадим Галыгин, Александр Старченко, Габриэль П...   \nМидуэй                                     Мэнди Мур, Люк Эванс, Патрик Уилсон, Вуди Харр...   \nХороший лжец                               Хелен Миррен, Джим Картер, Иэн Маккеллен, Расс...   \n...                                                                                      ...   \n TheatreHD: Хансард                                                                  Unknown   \nЗвездные Войны: Скайуокер. Восход          Лупита Нионго, Марк Хэмилл, Оскар Айзек, Адам ...   \nStar Wars: The Rise of Skywalker (RU SUB)                                            Unknown   \nTheatreHD: Палладио. Власть архитектуры                                              Unknown   \nTheatreHD: Щелкунчик (SUB)                                                           Unknown   \n\n                                            rating  min_age  \nFord против Ferrari                        Unknown      16+  \nАнгелы Чарли                               Unknown      16+  \nУпыри                                          7,9      18+  \nМидуэй                                         7,8      16+  \nХороший лжец                               Unknown      16+  \n...                                            ...      ...  \n TheatreHD: Хансард                        Unknown      16+  \nЗвездные Войны: Скайуокер. Восход             10,0      16+  \nStar Wars: The Rise of Skywalker (RU SUB)  Unknown  Unknown  \nTheatreHD: Палладио. Власть архитектуры    Unknown      12+  \nTheatreHD: Щелкунчик (SUB)                 Unknown  Unknown  \n\n[88 rows x 10 columns]"
     },
     "execution_count": 2,
     "metadata": {},
     "output_type": "execute_result"
    }
   ],
   "source": [
    "import pyspark\n",
    "from pyspark.sql import SparkSession\n",
    "import pandas as pd\n",
    "\n",
    "spark = SparkSession.builder.appName(\"minald\").getOrCreate()\n",
    "sc = spark.sparkContext\n",
    "pdDF = pd.DataFrame(movies).transpose()\n",
    "pdDF"
   ]
  },
  {
   "cell_type": "code",
   "execution_count": 5,
   "metadata": {},
   "outputs": [
    {
     "name": "stdout",
     "output_type": "stream",
     "text": "+--------------------+----------------+----+--------------------+----------+--------------------+--------------------+--------------------+-------+-------+\n|                link|           genre|year|             country|  duration|            end_date|            director|              actors| rating|min_age|\n+--------------------+----------------+----+--------------------+----------+--------------------+--------------------+--------------------+-------+-------+\n|https://afisha.tu...|          Боевик|2019|        США, Франция|   Unknown|В прокате до 24 н...|      Джеймс Мэнголд|Кристиан Бэйл, Мэ...|Unknown|    16+|\n|https://afisha.tu...|          Боевик|2019|                 США| 119 минут|В прокате до 24 н...|      Элизабет Бэнкс|Кристен Стюарт, Н...|Unknown|    16+|\n|https://afisha.tu...|           Ужасы|2018|            Беларусь|  77 минут|В прокате до 24 н...|      Андрей Гринько|Вадим Галыгин, Ал...|    7,9|    18+|\n|https://afisha.tu...|          Боевик|2019|          Китай, США| 138 минут|В прокате до 24 н...|      Роланд Эммерих|Мэнди Мур, Люк Эв...|    7,8|    16+|\n|https://afisha.tu...|        Детектив|2019|                 США|   Unknown|В прокате до 24 н...|        Хороший лжец|Хелен Миррен, Джи...|Unknown|    16+|\n|https://afisha.tu...|Детский/Семейный|2019|Великобритания, К...|   Unknown|В прокате до 24 н...|         Аарон Вудли|Джеймс Франко, Дж...|Unknown|     6+|\n|https://afisha.tu...|           Драма|2019|             Франция| 119 минут|В прокате до 24 н...|       Селин Скьямма|Ноэми Мерлан, Аде...|Unknown|    16+|\n|https://afisha.tu...|         Unknown|2019|Великобритания, Г...|  90 минут|В прокате до 20 н...|  Виктор Косаковский|             Unknown|Unknown|Unknown|\n|https://afisha.tu...|       Биография|2019|             Unknown| 159 минут|В прокате до 20 н...|             Unknown|             Unknown|Unknown|Unknown|\n|https://afisha.tu...|        Детектив|2019|             Unknown| 120 минут|В прокате до 20 н...|             Unknown|             Unknown|Unknown|Unknown|\n|https://afisha.tu...|         Unknown|2019|             Unknown| 113 минут|В прокате до 20 н...|             Unknown|             Unknown|Unknown|Unknown|\n|https://afisha.tu...|           Ужасы|2019|                 США|151 минута|В прокате до 24 н...|       Майк Флэнеган|Джейкоб Тремблей,...|    7,4|Unknown|\n|https://afisha.tu...|           Драма|2018|                 США|  90 минут|В прокате до 20 н...|        Уэйн Робертс|Джонни Депп, Розм...|    8,3|Unknown|\n|https://afisha.tu...|         Unknown|2019|                 США|   Unknown|В прокате до 20 н...|      Хоаким Роннинг|Мишель Пфайффер, ...|    7,1|Unknown|\n|https://afisha.tu...|           Драма|2019|              Россия|   Unknown|В прокате до 20 н...|        Клим Шипенко|Александр Петров,...|    7,3|Unknown|\n|https://afisha.tu...|        Анимация|2019|Великобритания, К...| 105 минут|В прокате до 24 н...|Грег Тирнан, Конр...|Оскар Айзек, Шарл...|    6,3|Unknown|\n|https://afisha.tu...|          Боевик|2019|          США, Китай|   Unknown|В прокате до 13 д...|          Тим Миллер|Арнольд Шварценег...|    6,3|Unknown|\n|https://afisha.tu...|           Драма|2019|                 США|   Unknown|В прокате до 20 н...|        Тодд Филлипс|Хоакин Феникс, Ро...|    8,4|Unknown|\n|https://afisha.tu...|     Приключения|2019|              Россия|  99 минут|В прокате до 20 н...|    Николай Хомерики|Евгений Цыганов, ...|    6,3|Unknown|\n|https://afisha.tu...|          Боевик|2019|                 США| 93 минуты|В прокате до 20 н...|       Рубен Фляйшер|Джесси Айзенберг,...|    6,9|Unknown|\n+--------------------+----------------+----+--------------------+----------+--------------------+--------------------+--------------------+-------+-------+\nonly showing top 20 rows\n\n+-------+-----+\n|min_age|count|\n+-------+-----+\n|    18+|    4|\n|     6+|    2|\n|Unknown|   63|\n|    12+|    4|\n|    16+|   15|\n+-------+-----+\n\n"
    }
   ],
   "source": [
    "movies_df = spark.createDataFrame(pdDF)\n",
    "movies_df.show()\n",
    "movies_df.createOrReplaceTempView(\"all_movies\")\n",
    "min_age_grouped = movies_df.groupBy(\"min_age\").count()\n",
    "min_age_grouped.show()"
   ]
  },
  {
   "cell_type": "code",
   "execution_count": 4,
   "metadata": {},
   "outputs": [
    {
     "name": "stdout",
     "output_type": "stream",
     "text": "+----------------+--------+\n|        _COUNTRY|count(1)|\n+----------------+--------+\n|          Япония|       3|\n|         Эстония|       1|\n|           Чехия|       1|\n|         Франция|       4|\n|             США|      23|\n|          Россия|       9|\n|Польша. Беларусь|       1|\n|        Норвегия|       1|\n|         Мексика|       1|\n|           Ливан|       1|\n|     Корея Южная|       2|\n|           Китай|       5|\n|          Канада|       4|\n|          Италия|       2|\n|       Испания. |       1|\n|         Испания|       1|\n|            Иран|       1|\n|           Индия|       1|\n|           Дания|       2|\n|        Германия|       6|\n+----------------+--------+\nonly showing top 20 rows\n\n+-------------------+--------+\n|            _actors|count(1)|\n+-------------------+--------+\n|            Unknown|      34|\n|    Вуди Харрельсон|       2|\n|          Эд Скрейн|       2|\n|       Джон Бернтал|       2|\n|           Зои Дойч|       2|\n|        Оскар Айзек|       2|\n|       Ханна Мюррэй|       1|\n|         Люк Уилсон|       1|\n|         Шайа ЛаБаф|       1|\n|Луис Херардо Мендес|       1|\n|   Марк Льюис Джонс|       1|\n|      Патрик Годфри|       1|\n|        Трин Миллер|       1|\n|       Клифф Кёртис|       1|\n|   Хульета Эгуррола|       1|\n|        Кери Рассел|       1|\n|      Рэй Маккиннон|       1|\n|    Дамиан Алькасар|       1|\n|         Одесса Янг|       1|\n|       Дэниэл Крэйг|       1|\n+-------------------+--------+\nonly showing top 20 rows\n\n"
    }
   ],
   "source": [
    "import pyspark.sql.functions as f\n",
    "\n",
    "countries_from_rows = spark.sql(\"SELECT COUNTRY FROM all_movies\")\n",
    "countries = countries_from_rows.select(\n",
    "  \"COUNTRY\",\n",
    "  f.split(\"COUNTRY\", \", \").alias(\"COUNTRY\"),\n",
    "  f.posexplode(f.split(\"COUNTRY\", \", \")).alias(\"pos\", \"_COUNTRY\")\n",
    "  ).select(\"_COUNTRY\")\n",
    "countries.createOrReplaceTempView(\"countries\")\n",
    "country_counts = spark.sql(\"SELECT _COUNTRY, COUNT(*) FROM countries GROUP BY _COUNTRY ORDER BY _COUNTRY DESC\")\n",
    "country_counts.show()\n",
    "\n",
    "actors_from_rows = spark.sql(\"SELECT actors FROM all_movies\")\n",
    "actors = actors_from_rows.select(\n",
    "  \"actors\",\n",
    "  f.split(\"actors\", \", \").alias(\"actors\"),\n",
    "  f.posexplode(f.split(\"actors\", \", \")).alias(\"pos\", \"_actors\")\n",
    "  ).select(\"_actors\")\n",
    "actors.createOrReplaceTempView(\"actors\")\n",
    "actors_counts = spark.sql(\"SELECT _actors, COUNT(*) FROM actors GROUP BY _actors ORDER BY COUNT(*) DESC\")\n",
    "actors_counts.show()"
   ]
  },
  {
   "cell_type": "code",
   "execution_count": 6,
   "metadata": {},
   "outputs": [],
   "source": [
    "min_age_grouped.write.format(\"jdbc\")\\\n",
    "    .option(\"driver\", \"org.postgresql.Driver\")\\\n",
    "    .option(\"url\", \"jdbc:postgresql:postgres\")\\\n",
    "    .option(\"dbtable\", \"min_age_grouped\")\\\n",
    "    .option(\"user\", \"postgres\")\\\n",
    "    .option(\"password\", \"postgres\")\\\n",
    "    .save()"
   ]
  },
  {
   "cell_type": "code",
   "execution_count": 7,
   "metadata": {},
   "outputs": [],
   "source": [
    "country_counts.write.format(\"jdbc\")\\\n",
    "    .option(\"driver\", \"org.postgresql.Driver\")\\\n",
    "    .option(\"url\", \"jdbc:postgresql:postgres\")\\\n",
    "    .option(\"dbtable\", \"country_counts\")\\\n",
    "    .option(\"user\", \"postgres\")\\\n",
    "    .option(\"password\", \"postgres\")\\\n",
    "    .save()"
   ]
  },
  {
   "cell_type": "code",
   "execution_count": 8,
   "metadata": {},
   "outputs": [],
   "source": [
    "actors_counts.write.format(\"jdbc\")\\\n",
    "    .option(\"driver\", \"org.postgresql.Driver\")\\\n",
    "    .option(\"url\", \"jdbc:postgresql:postgres\")\\\n",
    "    .option(\"dbtable\", \"actors_counts\")\\\n",
    "    .option(\"user\", \"postgres\")\\\n",
    "    .option(\"password\", \"postgres\")\\\n",
    "    .save()"
   ]
  },
  {
   "cell_type": "code",
   "execution_count": null,
   "metadata": {},
   "outputs": [],
   "source": []
  }
 ],
 "metadata": {
  "kernelspec": {
   "display_name": "Python 3",
   "language": "python",
   "name": "python3"
  },
  "language_info": {
   "codemirror_mode": {
    "name": "ipython",
    "version": 3
   },
   "file_extension": ".py",
   "mimetype": "text/x-python",
   "name": "python",
   "nbconvert_exporter": "python",
   "pygments_lexer": "ipython3",
   "version": "3.6.5"
  }
 },
 "nbformat": 4,
 "nbformat_minor": 2
}